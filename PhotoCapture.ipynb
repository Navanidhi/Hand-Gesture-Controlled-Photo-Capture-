import cv2 
import mediapipe as mp
import time

cap = cv2.VideoCapture(0)

if not cap.isOpened():
    print("Error: Could not open video.")
    exit()

mpHands = mp.solutions.hands
hands = mpHands.Hands()
mpDraw = mp.solutions.drawing_utils

def is_hand_open(hand_landmarks):
    # Function to check if all fingers are open
    tips_ids = [4, 8, 12, 16, 20]
    for tip_id in tips_ids:
        if hand_landmarks.landmark[tip_id].y > hand_landmarks.landmark[tip_id - 2].y:
            return False
    return True

open_palm_detected_time = None

try:
    while True:
        success, img = cap.read()
        if not success:
            print("Error: Could not read frame.")
            break

        imgRGB = cv2.cvtColor(img, cv2.COLOR_BGR2RGB)
        results = hands.process(imgRGB)

        if results.multi_hand_landmarks:
            hand_open = False
            for handlandmark in results.multi_hand_landmarks:
                if is_hand_open(handlandmark):
                    hand_open = True
                    if open_palm_detected_time is None:
                        open_palm_detected_time = time.time()
                    elif time.time() - open_palm_detected_time >= 5:
                        # Draw landmarks before saving the image
                        mpDraw.draw_landmarks(img, handlandmark, mpHands.HAND_CONNECTIONS)
                        cv2.imwrite(f'hand_open_{int(time.time())}.png', img)
                        print("Photo captured!")
                        open_palm_detected_time = None  # Reset the timer after capturing
                        break
                else:
                    open_palm_detected_time = None  # Reset the timer if hand is not open

                # Draw landmarks on the image
                mpDraw.draw_landmarks(img, handlandmark, mpHands.HAND_CONNECTIONS)
        
            if not hand_open:
                open_palm_detected_time = None  # Reset the timer if no hand is open

        else:
            open_palm_detected_time = None  # Reset the timer if no hand landmarks are detected

        cv2.imshow('Image', img)
        if cv2.waitKey(1) & 0xFF == ord('q'):
            break
except Exception as e:
    print(f"Error: {e}")
finally:
    cap.release()
    cv2.destroyAllWindows()
